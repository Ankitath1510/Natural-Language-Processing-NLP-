{
 "cells": [
  {
   "cell_type": "code",
   "execution_count": 5,
   "id": "48292f3f-2b91-46ca-86e1-08ccd4e07531",
   "metadata": {},
   "outputs": [],
   "source": [
    "words = [\"eating\", \"eats\", \"eaten\", \"writing\", \"written\", \"wrote\", \"writes\", \"programming\", \"programmer\", \"congratulations\", \"historically\"]"
   ]
  },
  {
   "cell_type": "code",
   "execution_count": 6,
   "id": "0bc4fa61-e36b-4ed3-b1bd-8f42cd8765e5",
   "metadata": {},
   "outputs": [],
   "source": [
    "## Porter Stemmer\n",
    "\n",
    "from nltk.stem import PorterStemmer"
   ]
  },
  {
   "cell_type": "code",
   "execution_count": 7,
   "id": "862b202a-5dfe-43a5-af42-84afeee7fd7c",
   "metadata": {},
   "outputs": [],
   "source": [
    "stemming = PorterStemmer()"
   ]
  },
  {
   "cell_type": "code",
   "execution_count": 8,
   "id": "35bca2a1-501a-4e2d-b8a8-42d220a140fd",
   "metadata": {},
   "outputs": [
    {
     "name": "stdout",
     "output_type": "stream",
     "text": [
      "eating---->eat\n",
      "eats---->eat\n",
      "eaten---->eaten\n",
      "writing---->write\n",
      "written---->written\n",
      "wrote---->wrote\n",
      "writes---->write\n",
      "programming---->program\n",
      "programmer---->programm\n",
      "congratulations---->congratul\n",
      "historically---->histor\n"
     ]
    }
   ],
   "source": [
    "for word in words:\n",
    "    print(word+\"---->\"+stemming.stem(word))"
   ]
  },
  {
   "cell_type": "code",
   "execution_count": 9,
   "id": "d9e4f0bf-5ea9-4ee1-9340-d172a0864634",
   "metadata": {},
   "outputs": [],
   "source": [
    "## RegExpStemmer\n",
    "from nltk.stem import RegexpStemmer"
   ]
  },
  {
   "cell_type": "code",
   "execution_count": 10,
   "id": "d27dda9c-66b9-4ee4-9e8e-0fc5beea0c74",
   "metadata": {},
   "outputs": [],
   "source": [
    "reg_stemmer=RegexpStemmer('ing$|s$|e$|able$', min=4)"
   ]
  },
  {
   "cell_type": "code",
   "execution_count": 11,
   "id": "637b6dec-228f-40b7-bf0f-759ded1bb08e",
   "metadata": {},
   "outputs": [
    {
     "name": "stdout",
     "output_type": "stream",
     "text": [
      "eating---->eat\n",
      "eats---->eat\n",
      "eaten---->eaten\n",
      "writing---->writ\n",
      "written---->written\n",
      "wrote---->wrot\n",
      "writes---->write\n",
      "programming---->programm\n",
      "programmer---->programmer\n",
      "congratulations---->congratulation\n",
      "historically---->historically\n"
     ]
    }
   ],
   "source": [
    "for word in words:\n",
    "    print(word+\"---->\"+reg_stemmer.stem(word))"
   ]
  },
  {
   "cell_type": "code",
   "execution_count": 13,
   "id": "880da2d1-a5d8-4768-8239-8f0b75b358d3",
   "metadata": {},
   "outputs": [],
   "source": [
    "## Snowball Stemmer\n",
    "\n",
    "from nltk.stem import SnowballStemmer\n",
    "snowball=SnowballStemmer('english')"
   ]
  },
  {
   "cell_type": "code",
   "execution_count": 14,
   "id": "bb572d5d-5bdf-47b5-a45d-ee76ebfbbb9d",
   "metadata": {},
   "outputs": [
    {
     "name": "stdout",
     "output_type": "stream",
     "text": [
      "eating---->eat\n",
      "eats---->eat\n",
      "eaten---->eaten\n",
      "writing---->write\n",
      "written---->written\n",
      "wrote---->wrote\n",
      "writes---->write\n",
      "programming---->program\n",
      "programmer---->programm\n",
      "congratulations---->congratul\n",
      "historically---->histor\n"
     ]
    }
   ],
   "source": [
    "for word in words:\n",
    "    print(word+\"---->\"+snowball.stem(word))"
   ]
  },
  {
   "cell_type": "code",
   "execution_count": null,
   "id": "5f7abc42-278b-42c1-8cdc-e4384ecfb5d8",
   "metadata": {},
   "outputs": [],
   "source": [
    "D"
   ]
  },
  {
   "cell_type": "code",
   "execution_count": 15,
   "id": "7ca0dda6-ad78-414b-99b9-83b0a3352778",
   "metadata": {},
   "outputs": [
    {
     "data": {
      "text/plain": [
       "('fairli', 'sportingli')"
      ]
     },
     "execution_count": 15,
     "metadata": {},
     "output_type": "execute_result"
    }
   ],
   "source": [
    "stemming.stem('fairly'), stemming.stem('sportingly')"
   ]
  },
  {
   "cell_type": "code",
   "execution_count": 16,
   "id": "ffbf1a86-55cb-47ff-bba3-a301fa3f57d6",
   "metadata": {},
   "outputs": [
    {
     "data": {
      "text/plain": [
       "('fair', 'sport')"
      ]
     },
     "execution_count": 16,
     "metadata": {},
     "output_type": "execute_result"
    }
   ],
   "source": [
    "snowball.stem('fairly'), snowball.stem('sportingly')"
   ]
  },
  {
   "cell_type": "code",
   "execution_count": null,
   "id": "147c529d-e10f-439e-8c59-e3bc6517018a",
   "metadata": {},
   "outputs": [],
   "source": []
  }
 ],
 "metadata": {
  "kernelspec": {
   "display_name": "Python 3 (ipykernel)",
   "language": "python",
   "name": "python3"
  },
  "language_info": {
   "codemirror_mode": {
    "name": "ipython",
    "version": 3
   },
   "file_extension": ".py",
   "mimetype": "text/x-python",
   "name": "python",
   "nbconvert_exporter": "python",
   "pygments_lexer": "ipython3",
   "version": "3.13.5"
  }
 },
 "nbformat": 4,
 "nbformat_minor": 5
}
