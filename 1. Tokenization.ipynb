{
 "cells": [
  {
   "cell_type": "code",
   "execution_count": 28,
   "id": "7d162978-ce9e-4131-936d-202076a6b758",
   "metadata": {},
   "outputs": [
    {
     "name": "stdout",
     "output_type": "stream",
     "text": [
      "Note: you may need to restart the kernel to use updated packages.Requirement already satisfied: nltk in c:\\users\\ankit\\anaconda3\\lib\\site-packages (3.9.1)\n",
      "Requirement already satisfied: click in c:\\users\\ankit\\anaconda3\\lib\\site-packages (from nltk) (8.1.8)\n",
      "Requirement already satisfied: joblib in c:\\users\\ankit\\anaconda3\\lib\\site-packages (from nltk) (1.4.2)\n",
      "Requirement already satisfied: regex>=2021.8.3 in c:\\users\\ankit\\anaconda3\\lib\\site-packages (from nltk) (2024.11.6)\n",
      "Requirement already satisfied: tqdm in c:\\users\\ankit\\anaconda3\\lib\\site-packages (from nltk) (4.67.1)\n",
      "Requirement already satisfied: colorama in c:\\users\\ankit\\anaconda3\\lib\\site-packages (from click->nltk) (0.4.6)\n",
      "\n"
     ]
    }
   ],
   "source": [
    "pip install nltk"
   ]
  },
  {
   "cell_type": "code",
   "execution_count": 29,
   "id": "49ea73eb-46bc-4455-9abf-67e345f5f422",
   "metadata": {},
   "outputs": [
    {
     "name": "stderr",
     "output_type": "stream",
     "text": [
      "[nltk_data] Downloading package punkt to\n",
      "[nltk_data]     C:\\Users\\ankit\\AppData\\Roaming\\nltk_data...\n",
      "[nltk_data]   Package punkt is already up-to-date!\n",
      "[nltk_data] Downloading package punkt_tab to\n",
      "[nltk_data]     C:\\Users\\ankit\\AppData\\Roaming\\nltk_data...\n",
      "[nltk_data]   Package punkt_tab is already up-to-date!\n"
     ]
    }
   ],
   "source": [
    "import nltk\n",
    "nltk.download('punkt')\n",
    "nltk.download('punkt_tab')\n",
    "from nltk.tokenize import sent_tokenize"
   ]
  },
  {
   "cell_type": "code",
   "execution_count": 30,
   "id": "8a2e6f2f-606f-43ca-b28c-e76d233fa762",
   "metadata": {},
   "outputs": [],
   "source": [
    "corpus = \"\"\" \n",
    "Hi, how are you. Did you have breakfast? all's okay.\n",
    "\"\"\""
   ]
  },
  {
   "cell_type": "code",
   "execution_count": 31,
   "id": "d05797cc-9fd1-4ca8-a2f2-e7f929504e6e",
   "metadata": {},
   "outputs": [],
   "source": [
    "sentence = sent_tokenize(corpus)"
   ]
  },
  {
   "cell_type": "code",
   "execution_count": 32,
   "id": "04e1da2d-c159-40ca-a950-84734bc6fca5",
   "metadata": {},
   "outputs": [
    {
     "name": "stdout",
     "output_type": "stream",
     "text": [
      " \n",
      "Hi, how are you.\n",
      "Did you have breakfast?\n",
      "all's okay.\n"
     ]
    }
   ],
   "source": [
    "for i in sentence:\n",
    "    print(i)"
   ]
  },
  {
   "cell_type": "code",
   "execution_count": 33,
   "id": "9662cd63-815b-489b-9ff6-d811ed3a1664",
   "metadata": {},
   "outputs": [],
   "source": [
    "from nltk.tokenize import word_tokenize    #does not consider apostrophe as a separate token"
   ]
  },
  {
   "cell_type": "code",
   "execution_count": 34,
   "id": "5aedf7d7-66cd-4776-9e41-2d1ae1a55642",
   "metadata": {},
   "outputs": [],
   "source": [
    "words = word_tokenize(corpus)"
   ]
  },
  {
   "cell_type": "code",
   "execution_count": 35,
   "id": "40749fb4-9c11-409f-8ef7-6a69d47b1830",
   "metadata": {},
   "outputs": [
    {
     "name": "stdout",
     "output_type": "stream",
     "text": [
      "Hi\n",
      ",\n",
      "how\n",
      "are\n",
      "you\n",
      ".\n",
      "Did\n",
      "you\n",
      "have\n",
      "breakfast\n",
      "?\n",
      "all\n",
      "'s\n",
      "okay\n",
      ".\n"
     ]
    }
   ],
   "source": [
    "for w in words:\n",
    "    print(w)"
   ]
  },
  {
   "cell_type": "code",
   "execution_count": 36,
   "id": "9ec8d7d2-62e8-40d2-bf87-077bac1787e4",
   "metadata": {},
   "outputs": [],
   "source": [
    "from nltk.tokenize import wordpunct_tokenize    #apostrophe will be created as a separate token\n",
    "wi=wordpunct_tokenize(corpus)"
   ]
  },
  {
   "cell_type": "code",
   "execution_count": 37,
   "id": "7511e65a-ec71-4bf5-8100-12ae47bbfb30",
   "metadata": {},
   "outputs": [
    {
     "name": "stdout",
     "output_type": "stream",
     "text": [
      "Hi\n",
      ",\n",
      "how\n",
      "are\n",
      "you\n",
      ".\n",
      "Did\n",
      "you\n",
      "have\n",
      "breakfast\n",
      "?\n",
      "all\n",
      "'\n",
      "s\n",
      "okay\n",
      ".\n"
     ]
    }
   ],
   "source": [
    "for i in wi:\n",
    "    print(i)"
   ]
  },
  {
   "cell_type": "code",
   "execution_count": 38,
   "id": "6611ac8c-a1c5-4613-a8e8-c600729db92d",
   "metadata": {},
   "outputs": [],
   "source": [
    "from nltk.tokenize import TreebankWordTokenizer"
   ]
  },
  {
   "cell_type": "code",
   "execution_count": 39,
   "id": "fcc2f2ef-dd71-4016-bd7e-46d179b0f5a7",
   "metadata": {},
   "outputs": [],
   "source": [
    "tokenizer=TreebankWordTokenizer() #fullstop will not be created as separate token, only last full stop will be considered as a separate token"
   ]
  },
  {
   "cell_type": "code",
   "execution_count": 40,
   "id": "b54f31cf-b027-4050-a4b4-71bf921e5826",
   "metadata": {},
   "outputs": [
    {
     "data": {
      "text/plain": [
       "['Hi',\n",
       " ',',\n",
       " 'how',\n",
       " 'are',\n",
       " 'you.',\n",
       " 'Did',\n",
       " 'you',\n",
       " 'have',\n",
       " 'breakfast',\n",
       " '?',\n",
       " 'all',\n",
       " \"'s\",\n",
       " 'okay',\n",
       " '.']"
      ]
     },
     "execution_count": 40,
     "metadata": {},
     "output_type": "execute_result"
    }
   ],
   "source": [
    "tokenizer.tokenize(corpus)"
   ]
  },
  {
   "cell_type": "code",
   "execution_count": null,
   "id": "c4ffcb70-91f2-47d7-9f3e-cabb65565b09",
   "metadata": {},
   "outputs": [],
   "source": []
  }
 ],
 "metadata": {
  "kernelspec": {
   "display_name": "Python 3 (ipykernel)",
   "language": "python",
   "name": "python3"
  },
  "language_info": {
   "codemirror_mode": {
    "name": "ipython",
    "version": 3
   },
   "file_extension": ".py",
   "mimetype": "text/x-python",
   "name": "python",
   "nbconvert_exporter": "python",
   "pygments_lexer": "ipython3",
   "version": "3.13.5"
  }
 },
 "nbformat": 4,
 "nbformat_minor": 5
}
