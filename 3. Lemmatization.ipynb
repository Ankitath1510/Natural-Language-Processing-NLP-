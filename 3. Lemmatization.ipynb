{
 "cells": [
  {
   "cell_type": "code",
   "execution_count": 14,
   "id": "e1f802ba-1c29-4b84-b351-35959ac3b3fa",
   "metadata": {},
   "outputs": [],
   "source": [
    "words = [\"eating\", \"eats\", \"eaten\", \"writing\", \"written\", \"wrote\", \"writes\", \"programming\", \"programmer\", \"congratulations\", \"historically\"]"
   ]
  },
  {
   "cell_type": "code",
   "execution_count": 15,
   "id": "6cc74fd0-1390-4a78-9987-30cd8206dfb6",
   "metadata": {},
   "outputs": [
    {
     "name": "stderr",
     "output_type": "stream",
     "text": [
      "[nltk_data] Downloading package wordnet to\n",
      "[nltk_data]     C:\\Users\\ankit\\AppData\\Roaming\\nltk_data...\n",
      "[nltk_data] Downloading package omw-1.4 to\n",
      "[nltk_data]     C:\\Users\\ankit\\AppData\\Roaming\\nltk_data...\n"
     ]
    },
    {
     "data": {
      "text/plain": [
       "True"
      ]
     },
     "execution_count": 15,
     "metadata": {},
     "output_type": "execute_result"
    }
   ],
   "source": [
    "#Wordnet Lemmatizer\n",
    "import nltk\n",
    "nltk.download('wordnet')\n",
    "nltk.download('omw-1.4') "
   ]
  },
  {
   "cell_type": "code",
   "execution_count": 16,
   "id": "bcb7facd-3a71-4d42-92bb-1cf2e615b2d5",
   "metadata": {},
   "outputs": [],
   "source": [
    "from nltk.stem import WordNetLemmatizer\n",
    "\n",
    "lemma = WordNetLemmatizer()"
   ]
  },
  {
   "cell_type": "code",
   "execution_count": 21,
   "id": "f9c579f6-049a-4441-978c-2b708a5f68f5",
   "metadata": {},
   "outputs": [],
   "source": [
    "#Lemmatizing in noun form of the word"
   ]
  },
  {
   "cell_type": "code",
   "execution_count": 19,
   "id": "4da860f9-a965-4197-bf22-34b2dcffbd27",
   "metadata": {},
   "outputs": [
    {
     "name": "stdout",
     "output_type": "stream",
     "text": [
      "eating---->eating\n",
      "eats---->eats\n",
      "eaten---->eaten\n",
      "writing---->writing\n",
      "written---->written\n",
      "wrote---->wrote\n",
      "writes---->writes\n",
      "programming---->programming\n",
      "programmer---->programmer\n",
      "congratulations---->congratulation\n",
      "historically---->historically\n"
     ]
    }
   ],
   "source": [
    "for word in words:\n",
    "    print(word+\"---->\"+lemma.lemmatize(word, pos='n'))"
   ]
  },
  {
   "cell_type": "code",
   "execution_count": 22,
   "id": "0e44d99c-1874-4871-876e-571f04d8d3be",
   "metadata": {},
   "outputs": [],
   "source": [
    "#Lemmatizing in verb form of the word"
   ]
  },
  {
   "cell_type": "code",
   "execution_count": 20,
   "id": "377fe2b6-6a41-40fd-9744-9fa1232c6125",
   "metadata": {},
   "outputs": [
    {
     "name": "stdout",
     "output_type": "stream",
     "text": [
      "eating---->eat\n",
      "eats---->eat\n",
      "eaten---->eat\n",
      "writing---->write\n",
      "written---->write\n",
      "wrote---->write\n",
      "writes---->write\n",
      "programming---->program\n",
      "programmer---->programmer\n",
      "congratulations---->congratulations\n",
      "historically---->historically\n"
     ]
    }
   ],
   "source": [
    "for word in words:\n",
    "    print(word+\"---->\"+lemma.lemmatize(word, pos='v'))"
   ]
  },
  {
   "cell_type": "code",
   "execution_count": 23,
   "id": "1d52bcb7-91d0-43e1-b935-5d2f8ad8adff",
   "metadata": {},
   "outputs": [
    {
     "name": "stdout",
     "output_type": "stream",
     "text": [
      "eating---->eating\n",
      "eats---->eats\n",
      "eaten---->eaten\n",
      "writing---->writing\n",
      "written---->written\n",
      "wrote---->wrote\n",
      "writes---->writes\n",
      "programming---->programming\n",
      "programmer---->programmer\n",
      "congratulations---->congratulations\n",
      "historically---->historically\n"
     ]
    }
   ],
   "source": [
    "# Lemmatizing in adjective form of the word\n",
    "for word in words:\n",
    "    print(word+\"---->\"+lemma.lemmatize(word, pos='a'))"
   ]
  },
  {
   "cell_type": "code",
   "execution_count": 24,
   "id": "8a6a38aa-a8cf-42bc-a1f2-10fd890eafee",
   "metadata": {},
   "outputs": [
    {
     "name": "stdout",
     "output_type": "stream",
     "text": [
      "eating---->eating\n",
      "eats---->eats\n",
      "eaten---->eaten\n",
      "writing---->writing\n",
      "written---->written\n",
      "wrote---->wrote\n",
      "writes---->writes\n",
      "programming---->programming\n",
      "programmer---->programmer\n",
      "congratulations---->congratulations\n",
      "historically---->historically\n"
     ]
    }
   ],
   "source": [
    "# Lemmatizing in adverb form of the word\n",
    "for word in words:\n",
    "    print(word+\"---->\"+lemma.lemmatize(word, pos='r'))"
   ]
  },
  {
   "cell_type": "code",
   "execution_count": null,
   "id": "93872ca1-1e6a-4715-893b-2a0ca61ca0dd",
   "metadata": {},
   "outputs": [],
   "source": []
  }
 ],
 "metadata": {
  "kernelspec": {
   "display_name": "Python 3 (ipykernel)",
   "language": "python",
   "name": "python3"
  },
  "language_info": {
   "codemirror_mode": {
    "name": "ipython",
    "version": 3
   },
   "file_extension": ".py",
   "mimetype": "text/x-python",
   "name": "python",
   "nbconvert_exporter": "python",
   "pygments_lexer": "ipython3",
   "version": "3.13.5"
  }
 },
 "nbformat": 4,
 "nbformat_minor": 5
}
